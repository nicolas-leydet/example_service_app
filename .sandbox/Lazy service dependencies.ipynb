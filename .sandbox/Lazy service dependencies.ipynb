{
 "cells": [
  {
   "cell_type": "code",
   "execution_count": 63,
   "metadata": {
    "collapsed": false
   },
   "outputs": [],
   "source": [
    "import inspect\n",
    "\n",
    "\n",
    "def make_dependencies_lazy(service_class):\n",
    "    dependencies = inspect.getmembers(service_class, is_dependency)\n",
    "    for name, dependency in dependencies:\n",
    "        setattr(service_class, name, Lazy(name, dependency))\n",
    "\n",
    "\n",
    "class Lazy(object):\n",
    "    def __init__(self, name, dependency):\n",
    "        self.dependency = dependency\n",
    "        self.name = name\n",
    "        \n",
    "    def __get__(self, instance, cls):\n",
    "        self.dependency.initialize()\n",
    "        setattr(cls, self.name, self.dependency)\n",
    "        return self.dependency\n",
    "    \n",
    "               \n",
    "def is_dependency(attribute):\n",
    "    return isinstance(attribute, Dependency)\n",
    "\n",
    "\n",
    "class Dependency(object):\n",
    "    def initialize(self):\n",
    "        raise NotImplemented\n",
    "\n",
    "\n",
    "class ADependency(Dependency):\n",
    "    def initialize(self):\n",
    "        print('initialized')\n",
    "        \n",
    "    def do(self):\n",
    "        print('done')\n",
    "        \n",
    "        \n",
    "class Service(object):\n",
    "    dep = ADependency()\n",
    "    \n",
    "    def create(self):\n",
    "        self.dep.do()\n",
    "        \n",
    "class ServiceBis(object):\n",
    "    dep = ADependency()\n",
    "    \n",
    "    def create(self):\n",
    "        self.dep.do()"
   ]
  },
  {
   "cell_type": "code",
   "execution_count": 64,
   "metadata": {
    "collapsed": false
   },
   "outputs": [],
   "source": [
    "make_dependencies_lazy(Service)\n",
    "make_dependencies_lazy(ServiceBis)"
   ]
  },
  {
   "cell_type": "code",
   "execution_count": 65,
   "metadata": {
    "collapsed": true
   },
   "outputs": [],
   "source": [
    "a, b = Service(),Service()\n",
    "c = ServiceBis()"
   ]
  },
  {
   "cell_type": "code",
   "execution_count": 66,
   "metadata": {
    "collapsed": false
   },
   "outputs": [
    {
     "name": "stdout",
     "output_type": "stream",
     "text": [
      "initialized\n",
      "done\n"
     ]
    }
   ],
   "source": [
    "a.create()"
   ]
  },
  {
   "cell_type": "code",
   "execution_count": 67,
   "metadata": {
    "collapsed": false
   },
   "outputs": [
    {
     "name": "stdout",
     "output_type": "stream",
     "text": [
      "done\n"
     ]
    }
   ],
   "source": [
    "b.create()"
   ]
  },
  {
   "cell_type": "code",
   "execution_count": 68,
   "metadata": {
    "collapsed": false
   },
   "outputs": [
    {
     "name": "stdout",
     "output_type": "stream",
     "text": [
      "initialized\n",
      "done\n"
     ]
    }
   ],
   "source": [
    "c.create()\n"
   ]
  },
  {
   "cell_type": "code",
   "execution_count": 69,
   "metadata": {
    "collapsed": false
   },
   "outputs": [
    {
     "name": "stdout",
     "output_type": "stream",
     "text": [
      "done\n"
     ]
    }
   ],
   "source": [
    "a.create()"
   ]
  },
  {
   "cell_type": "code",
   "execution_count": 70,
   "metadata": {
    "collapsed": false
   },
   "outputs": [
    {
     "name": "stdout",
     "output_type": "stream",
     "text": [
      "done\n"
     ]
    }
   ],
   "source": [
    "b.create()"
   ]
  },
  {
   "cell_type": "code",
   "execution_count": 71,
   "metadata": {
    "collapsed": false
   },
   "outputs": [
    {
     "name": "stdout",
     "output_type": "stream",
     "text": [
      "done\n"
     ]
    }
   ],
   "source": [
    "c.create()"
   ]
  },
  {
   "cell_type": "code",
   "execution_count": null,
   "metadata": {
    "collapsed": true
   },
   "outputs": [],
   "source": []
  }
 ],
 "metadata": {
  "kernelspec": {
   "display_name": "Python 3",
   "language": "python",
   "name": "python3"
  },
  "language_info": {
   "codemirror_mode": {
    "name": "ipython",
    "version": 3
   },
   "file_extension": ".py",
   "mimetype": "text/x-python",
   "name": "python",
   "nbconvert_exporter": "python",
   "pygments_lexer": "ipython3",
   "version": "3.5.2"
  }
 },
 "nbformat": 4,
 "nbformat_minor": 1
}
